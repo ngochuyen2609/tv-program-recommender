{
 "cells": [
  {
   "cell_type": "code",
   "execution_count": 1,
   "metadata": {},
   "outputs": [
    {
     "name": "stdout",
     "output_type": "stream",
     "text": [
      "\n",
      "== logs_program ==\n",
      "shape: (3658754, 6)\n",
      "columns: ['user_id', 'tv_show_id', 'vsetv_id', 'start_time_view', 'end_time_view', 'duration_view']\n",
      "               user_id  tv_show_id  vsetv_id     start_time_view  \\\n",
      "0    57357915868236403   6600437.0       353 2020-03-09 07:39:35   \n",
      "1  8404698046253197367   6600437.0       353 2020-03-09 07:40:45   \n",
      "\n",
      "        end_time_view  duration_view  \n",
      "0 2020-03-09 07:44:41            306  \n",
      "1 2020-03-09 08:06:41           1556  \n",
      "\n",
      "== train ==\n",
      "shape: (2876145, 7)\n",
      "columns: ['user_id', 'tv_show_id', 'vsetv_id', 'start_time_view', 'end_time_view', 'duration_view', 'session_id']\n",
      "            user_id  tv_show_id  vsetv_id     start_time_view  \\\n",
      "0  2244466330591177         0.0       397 2020-03-09 08:45:54   \n",
      "1  2244466330591177  12002107.0       843 2020-03-09 09:15:43   \n",
      "\n",
      "        end_time_view  duration_view  session_id  \n",
      "0 2020-03-09 09:15:03           1749           0  \n",
      "1 2020-03-09 09:35:54           1211           0  \n",
      "\n",
      "== val ==\n",
      "shape: (782609, 7)\n",
      "columns: ['user_id', 'tv_show_id', 'vsetv_id', 'start_time_view', 'end_time_view', 'duration_view', 'session_id']\n",
      "            user_id  tv_show_id  vsetv_id     start_time_view  \\\n",
      "0  2244466330591177         0.0      1327 2020-06-15 18:11:40   \n",
      "1  2244466330591177  12001682.0      1495 2020-06-19 13:57:19   \n",
      "\n",
      "        end_time_view  duration_view  session_id  \n",
      "0 2020-06-15 18:16:12            272          39  \n",
      "1 2020-06-19 14:03:09            350          40  \n"
     ]
    }
   ],
   "source": [
    "import pandas as pd\n",
    "\n",
    "for f in [\"logs_program\", \"train\", \"val\"]:\n",
    "    path = fr\"{f}.parquet\"\n",
    "    df = pd.read_parquet(path)\n",
    "    print(f\"\\n== {f} ==\")\n",
    "    print(\"shape:\", df.shape)\n",
    "    print(\"columns:\", list(df.columns))\n",
    "    print(df.head(2))\n"
   ]
  }
 ],
 "metadata": {
  "kernelspec": {
   "display_name": ".venv",
   "language": "python",
   "name": "python3"
  },
  "language_info": {
   "codemirror_mode": {
    "name": "ipython",
    "version": 3
   },
   "file_extension": ".py",
   "mimetype": "text/x-python",
   "name": "python",
   "nbconvert_exporter": "python",
   "pygments_lexer": "ipython3",
   "version": "3.12.9"
  }
 },
 "nbformat": 4,
 "nbformat_minor": 2
}

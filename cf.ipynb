{
  "nbformat": 4,
  "nbformat_minor": 0,
  "metadata": {
    "colab": {
      "provenance": [],
      "authorship_tag": "ABX9TyOaesv3dHlfG6CZXeSYqx6j",
      "include_colab_link": true
    },
    "kernelspec": {
      "name": "python3",
      "display_name": "Python 3"
    },
    "language_info": {
      "name": "python"
    },
    "widgets": {
      "application/vnd.jupyter.widget-state+json": {
        "b0ac52aa595a4805bf79eb488886c563": {
          "model_module": "@jupyter-widgets/controls",
          "model_name": "HBoxModel",
          "model_module_version": "1.5.0",
          "state": {
            "_dom_classes": [],
            "_model_module": "@jupyter-widgets/controls",
            "_model_module_version": "1.5.0",
            "_model_name": "HBoxModel",
            "_view_count": null,
            "_view_module": "@jupyter-widgets/controls",
            "_view_module_version": "1.5.0",
            "_view_name": "HBoxView",
            "box_style": "",
            "children": [
              "IPY_MODEL_6bc364e79b4b48299010cbe64fb108fd",
              "IPY_MODEL_4c32a51a22d043c1ae0485ff6a6a03b1",
              "IPY_MODEL_164c55cacf1d4b4782278715286289a7"
            ],
            "layout": "IPY_MODEL_902ebb85c1094e7fa6d6931f2e9dcbf6"
          }
        },
        "6bc364e79b4b48299010cbe64fb108fd": {
          "model_module": "@jupyter-widgets/controls",
          "model_name": "HTMLModel",
          "model_module_version": "1.5.0",
          "state": {
            "_dom_classes": [],
            "_model_module": "@jupyter-widgets/controls",
            "_model_module_version": "1.5.0",
            "_model_name": "HTMLModel",
            "_view_count": null,
            "_view_module": "@jupyter-widgets/controls",
            "_view_module_version": "1.5.0",
            "_view_name": "HTMLView",
            "description": "",
            "description_tooltip": null,
            "layout": "IPY_MODEL_9dda32fc8592495493f8c2b486b8aca7",
            "placeholder": "​",
            "style": "IPY_MODEL_69b233119ed649c18d6ad29f266cb9e8",
            "value": "100%"
          }
        },
        "4c32a51a22d043c1ae0485ff6a6a03b1": {
          "model_module": "@jupyter-widgets/controls",
          "model_name": "FloatProgressModel",
          "model_module_version": "1.5.0",
          "state": {
            "_dom_classes": [],
            "_model_module": "@jupyter-widgets/controls",
            "_model_module_version": "1.5.0",
            "_model_name": "FloatProgressModel",
            "_view_count": null,
            "_view_module": "@jupyter-widgets/controls",
            "_view_module_version": "1.5.0",
            "_view_name": "ProgressView",
            "bar_style": "success",
            "description": "",
            "description_tooltip": null,
            "layout": "IPY_MODEL_087efdf8824048e4a641752332832bae",
            "max": 4851,
            "min": 0,
            "orientation": "horizontal",
            "style": "IPY_MODEL_4a5b4320fcc6444481a029baaea87009",
            "value": 4851
          }
        },
        "164c55cacf1d4b4782278715286289a7": {
          "model_module": "@jupyter-widgets/controls",
          "model_name": "HTMLModel",
          "model_module_version": "1.5.0",
          "state": {
            "_dom_classes": [],
            "_model_module": "@jupyter-widgets/controls",
            "_model_module_version": "1.5.0",
            "_model_name": "HTMLModel",
            "_view_count": null,
            "_view_module": "@jupyter-widgets/controls",
            "_view_module_version": "1.5.0",
            "_view_name": "HTMLView",
            "description": "",
            "description_tooltip": null,
            "layout": "IPY_MODEL_4c172e5a6c584f68baedc8874ed33eb2",
            "placeholder": "​",
            "style": "IPY_MODEL_7b09cfd98c9a443db95278447daaf1f5",
            "value": " 4851/4851 [00:03&lt;00:00, 2400.22it/s]"
          }
        },
        "902ebb85c1094e7fa6d6931f2e9dcbf6": {
          "model_module": "@jupyter-widgets/base",
          "model_name": "LayoutModel",
          "model_module_version": "1.2.0",
          "state": {
            "_model_module": "@jupyter-widgets/base",
            "_model_module_version": "1.2.0",
            "_model_name": "LayoutModel",
            "_view_count": null,
            "_view_module": "@jupyter-widgets/base",
            "_view_module_version": "1.2.0",
            "_view_name": "LayoutView",
            "align_content": null,
            "align_items": null,
            "align_self": null,
            "border": null,
            "bottom": null,
            "display": null,
            "flex": null,
            "flex_flow": null,
            "grid_area": null,
            "grid_auto_columns": null,
            "grid_auto_flow": null,
            "grid_auto_rows": null,
            "grid_column": null,
            "grid_gap": null,
            "grid_row": null,
            "grid_template_areas": null,
            "grid_template_columns": null,
            "grid_template_rows": null,
            "height": null,
            "justify_content": null,
            "justify_items": null,
            "left": null,
            "margin": null,
            "max_height": null,
            "max_width": null,
            "min_height": null,
            "min_width": null,
            "object_fit": null,
            "object_position": null,
            "order": null,
            "overflow": null,
            "overflow_x": null,
            "overflow_y": null,
            "padding": null,
            "right": null,
            "top": null,
            "visibility": null,
            "width": null
          }
        },
        "9dda32fc8592495493f8c2b486b8aca7": {
          "model_module": "@jupyter-widgets/base",
          "model_name": "LayoutModel",
          "model_module_version": "1.2.0",
          "state": {
            "_model_module": "@jupyter-widgets/base",
            "_model_module_version": "1.2.0",
            "_model_name": "LayoutModel",
            "_view_count": null,
            "_view_module": "@jupyter-widgets/base",
            "_view_module_version": "1.2.0",
            "_view_name": "LayoutView",
            "align_content": null,
            "align_items": null,
            "align_self": null,
            "border": null,
            "bottom": null,
            "display": null,
            "flex": null,
            "flex_flow": null,
            "grid_area": null,
            "grid_auto_columns": null,
            "grid_auto_flow": null,
            "grid_auto_rows": null,
            "grid_column": null,
            "grid_gap": null,
            "grid_row": null,
            "grid_template_areas": null,
            "grid_template_columns": null,
            "grid_template_rows": null,
            "height": null,
            "justify_content": null,
            "justify_items": null,
            "left": null,
            "margin": null,
            "max_height": null,
            "max_width": null,
            "min_height": null,
            "min_width": null,
            "object_fit": null,
            "object_position": null,
            "order": null,
            "overflow": null,
            "overflow_x": null,
            "overflow_y": null,
            "padding": null,
            "right": null,
            "top": null,
            "visibility": null,
            "width": null
          }
        },
        "69b233119ed649c18d6ad29f266cb9e8": {
          "model_module": "@jupyter-widgets/controls",
          "model_name": "DescriptionStyleModel",
          "model_module_version": "1.5.0",
          "state": {
            "_model_module": "@jupyter-widgets/controls",
            "_model_module_version": "1.5.0",
            "_model_name": "DescriptionStyleModel",
            "_view_count": null,
            "_view_module": "@jupyter-widgets/base",
            "_view_module_version": "1.2.0",
            "_view_name": "StyleView",
            "description_width": ""
          }
        },
        "087efdf8824048e4a641752332832bae": {
          "model_module": "@jupyter-widgets/base",
          "model_name": "LayoutModel",
          "model_module_version": "1.2.0",
          "state": {
            "_model_module": "@jupyter-widgets/base",
            "_model_module_version": "1.2.0",
            "_model_name": "LayoutModel",
            "_view_count": null,
            "_view_module": "@jupyter-widgets/base",
            "_view_module_version": "1.2.0",
            "_view_name": "LayoutView",
            "align_content": null,
            "align_items": null,
            "align_self": null,
            "border": null,
            "bottom": null,
            "display": null,
            "flex": null,
            "flex_flow": null,
            "grid_area": null,
            "grid_auto_columns": null,
            "grid_auto_flow": null,
            "grid_auto_rows": null,
            "grid_column": null,
            "grid_gap": null,
            "grid_row": null,
            "grid_template_areas": null,
            "grid_template_columns": null,
            "grid_template_rows": null,
            "height": null,
            "justify_content": null,
            "justify_items": null,
            "left": null,
            "margin": null,
            "max_height": null,
            "max_width": null,
            "min_height": null,
            "min_width": null,
            "object_fit": null,
            "object_position": null,
            "order": null,
            "overflow": null,
            "overflow_x": null,
            "overflow_y": null,
            "padding": null,
            "right": null,
            "top": null,
            "visibility": null,
            "width": null
          }
        },
        "4a5b4320fcc6444481a029baaea87009": {
          "model_module": "@jupyter-widgets/controls",
          "model_name": "ProgressStyleModel",
          "model_module_version": "1.5.0",
          "state": {
            "_model_module": "@jupyter-widgets/controls",
            "_model_module_version": "1.5.0",
            "_model_name": "ProgressStyleModel",
            "_view_count": null,
            "_view_module": "@jupyter-widgets/base",
            "_view_module_version": "1.2.0",
            "_view_name": "StyleView",
            "bar_color": null,
            "description_width": ""
          }
        },
        "4c172e5a6c584f68baedc8874ed33eb2": {
          "model_module": "@jupyter-widgets/base",
          "model_name": "LayoutModel",
          "model_module_version": "1.2.0",
          "state": {
            "_model_module": "@jupyter-widgets/base",
            "_model_module_version": "1.2.0",
            "_model_name": "LayoutModel",
            "_view_count": null,
            "_view_module": "@jupyter-widgets/base",
            "_view_module_version": "1.2.0",
            "_view_name": "LayoutView",
            "align_content": null,
            "align_items": null,
            "align_self": null,
            "border": null,
            "bottom": null,
            "display": null,
            "flex": null,
            "flex_flow": null,
            "grid_area": null,
            "grid_auto_columns": null,
            "grid_auto_flow": null,
            "grid_auto_rows": null,
            "grid_column": null,
            "grid_gap": null,
            "grid_row": null,
            "grid_template_areas": null,
            "grid_template_columns": null,
            "grid_template_rows": null,
            "height": null,
            "justify_content": null,
            "justify_items": null,
            "left": null,
            "margin": null,
            "max_height": null,
            "max_width": null,
            "min_height": null,
            "min_width": null,
            "object_fit": null,
            "object_position": null,
            "order": null,
            "overflow": null,
            "overflow_x": null,
            "overflow_y": null,
            "padding": null,
            "right": null,
            "top": null,
            "visibility": null,
            "width": null
          }
        },
        "7b09cfd98c9a443db95278447daaf1f5": {
          "model_module": "@jupyter-widgets/controls",
          "model_name": "DescriptionStyleModel",
          "model_module_version": "1.5.0",
          "state": {
            "_model_module": "@jupyter-widgets/controls",
            "_model_module_version": "1.5.0",
            "_model_name": "DescriptionStyleModel",
            "_view_count": null,
            "_view_module": "@jupyter-widgets/base",
            "_view_module_version": "1.2.0",
            "_view_name": "StyleView",
            "description_width": ""
          }
        },
        "dbd4064aa6694ac3908ea34247bef42a": {
          "model_module": "@jupyter-widgets/controls",
          "model_name": "HBoxModel",
          "model_module_version": "1.5.0",
          "state": {
            "_dom_classes": [],
            "_model_module": "@jupyter-widgets/controls",
            "_model_module_version": "1.5.0",
            "_model_name": "HBoxModel",
            "_view_count": null,
            "_view_module": "@jupyter-widgets/controls",
            "_view_module_version": "1.5.0",
            "_view_name": "HBoxView",
            "box_style": "",
            "children": [
              "IPY_MODEL_2ee1624a52f649f586f084c5c221cfda",
              "IPY_MODEL_86548601850b4d298c1e94c7e5a7f6c9",
              "IPY_MODEL_c84b22fce105436b86e83cbf45130807"
            ],
            "layout": "IPY_MODEL_c1ec0dd70f774aa79fbd3ac45e739991"
          }
        },
        "2ee1624a52f649f586f084c5c221cfda": {
          "model_module": "@jupyter-widgets/controls",
          "model_name": "HTMLModel",
          "model_module_version": "1.5.0",
          "state": {
            "_dom_classes": [],
            "_model_module": "@jupyter-widgets/controls",
            "_model_module_version": "1.5.0",
            "_model_name": "HTMLModel",
            "_view_count": null,
            "_view_module": "@jupyter-widgets/controls",
            "_view_module_version": "1.5.0",
            "_view_name": "HTMLView",
            "description": "",
            "description_tooltip": null,
            "layout": "IPY_MODEL_696fbf6065914bc8aaca0eef65f4db70",
            "placeholder": "​",
            "style": "IPY_MODEL_42a72f84af914e598e9f57cf4fa12184",
            "value": "100%"
          }
        },
        "86548601850b4d298c1e94c7e5a7f6c9": {
          "model_module": "@jupyter-widgets/controls",
          "model_name": "FloatProgressModel",
          "model_module_version": "1.5.0",
          "state": {
            "_dom_classes": [],
            "_model_module": "@jupyter-widgets/controls",
            "_model_module_version": "1.5.0",
            "_model_name": "FloatProgressModel",
            "_view_count": null,
            "_view_module": "@jupyter-widgets/controls",
            "_view_module_version": "1.5.0",
            "_view_name": "ProgressView",
            "bar_style": "success",
            "description": "",
            "description_tooltip": null,
            "layout": "IPY_MODEL_51b4dd8300de46db85240bb94ebb09e5",
            "max": 15,
            "min": 0,
            "orientation": "horizontal",
            "style": "IPY_MODEL_eff3a23cf4e141b4bcc69e8a955f0a35",
            "value": 15
          }
        },
        "c84b22fce105436b86e83cbf45130807": {
          "model_module": "@jupyter-widgets/controls",
          "model_name": "HTMLModel",
          "model_module_version": "1.5.0",
          "state": {
            "_dom_classes": [],
            "_model_module": "@jupyter-widgets/controls",
            "_model_module_version": "1.5.0",
            "_model_name": "HTMLModel",
            "_view_count": null,
            "_view_module": "@jupyter-widgets/controls",
            "_view_module_version": "1.5.0",
            "_view_name": "HTMLView",
            "description": "",
            "description_tooltip": null,
            "layout": "IPY_MODEL_7cc5c457f1a64ef6957096178dbae726",
            "placeholder": "​",
            "style": "IPY_MODEL_5252f287f29b4460974b2bcf36cd10d6",
            "value": " 15/15 [00:06&lt;00:00,  2.92it/s]"
          }
        },
        "c1ec0dd70f774aa79fbd3ac45e739991": {
          "model_module": "@jupyter-widgets/base",
          "model_name": "LayoutModel",
          "model_module_version": "1.2.0",
          "state": {
            "_model_module": "@jupyter-widgets/base",
            "_model_module_version": "1.2.0",
            "_model_name": "LayoutModel",
            "_view_count": null,
            "_view_module": "@jupyter-widgets/base",
            "_view_module_version": "1.2.0",
            "_view_name": "LayoutView",
            "align_content": null,
            "align_items": null,
            "align_self": null,
            "border": null,
            "bottom": null,
            "display": null,
            "flex": null,
            "flex_flow": null,
            "grid_area": null,
            "grid_auto_columns": null,
            "grid_auto_flow": null,
            "grid_auto_rows": null,
            "grid_column": null,
            "grid_gap": null,
            "grid_row": null,
            "grid_template_areas": null,
            "grid_template_columns": null,
            "grid_template_rows": null,
            "height": null,
            "justify_content": null,
            "justify_items": null,
            "left": null,
            "margin": null,
            "max_height": null,
            "max_width": null,
            "min_height": null,
            "min_width": null,
            "object_fit": null,
            "object_position": null,
            "order": null,
            "overflow": null,
            "overflow_x": null,
            "overflow_y": null,
            "padding": null,
            "right": null,
            "top": null,
            "visibility": null,
            "width": null
          }
        },
        "696fbf6065914bc8aaca0eef65f4db70": {
          "model_module": "@jupyter-widgets/base",
          "model_name": "LayoutModel",
          "model_module_version": "1.2.0",
          "state": {
            "_model_module": "@jupyter-widgets/base",
            "_model_module_version": "1.2.0",
            "_model_name": "LayoutModel",
            "_view_count": null,
            "_view_module": "@jupyter-widgets/base",
            "_view_module_version": "1.2.0",
            "_view_name": "LayoutView",
            "align_content": null,
            "align_items": null,
            "align_self": null,
            "border": null,
            "bottom": null,
            "display": null,
            "flex": null,
            "flex_flow": null,
            "grid_area": null,
            "grid_auto_columns": null,
            "grid_auto_flow": null,
            "grid_auto_rows": null,
            "grid_column": null,
            "grid_gap": null,
            "grid_row": null,
            "grid_template_areas": null,
            "grid_template_columns": null,
            "grid_template_rows": null,
            "height": null,
            "justify_content": null,
            "justify_items": null,
            "left": null,
            "margin": null,
            "max_height": null,
            "max_width": null,
            "min_height": null,
            "min_width": null,
            "object_fit": null,
            "object_position": null,
            "order": null,
            "overflow": null,
            "overflow_x": null,
            "overflow_y": null,
            "padding": null,
            "right": null,
            "top": null,
            "visibility": null,
            "width": null
          }
        },
        "42a72f84af914e598e9f57cf4fa12184": {
          "model_module": "@jupyter-widgets/controls",
          "model_name": "DescriptionStyleModel",
          "model_module_version": "1.5.0",
          "state": {
            "_model_module": "@jupyter-widgets/controls",
            "_model_module_version": "1.5.0",
            "_model_name": "DescriptionStyleModel",
            "_view_count": null,
            "_view_module": "@jupyter-widgets/base",
            "_view_module_version": "1.2.0",
            "_view_name": "StyleView",
            "description_width": ""
          }
        },
        "51b4dd8300de46db85240bb94ebb09e5": {
          "model_module": "@jupyter-widgets/base",
          "model_name": "LayoutModel",
          "model_module_version": "1.2.0",
          "state": {
            "_model_module": "@jupyter-widgets/base",
            "_model_module_version": "1.2.0",
            "_model_name": "LayoutModel",
            "_view_count": null,
            "_view_module": "@jupyter-widgets/base",
            "_view_module_version": "1.2.0",
            "_view_name": "LayoutView",
            "align_content": null,
            "align_items": null,
            "align_self": null,
            "border": null,
            "bottom": null,
            "display": null,
            "flex": null,
            "flex_flow": null,
            "grid_area": null,
            "grid_auto_columns": null,
            "grid_auto_flow": null,
            "grid_auto_rows": null,
            "grid_column": null,
            "grid_gap": null,
            "grid_row": null,
            "grid_template_areas": null,
            "grid_template_columns": null,
            "grid_template_rows": null,
            "height": null,
            "justify_content": null,
            "justify_items": null,
            "left": null,
            "margin": null,
            "max_height": null,
            "max_width": null,
            "min_height": null,
            "min_width": null,
            "object_fit": null,
            "object_position": null,
            "order": null,
            "overflow": null,
            "overflow_x": null,
            "overflow_y": null,
            "padding": null,
            "right": null,
            "top": null,
            "visibility": null,
            "width": null
          }
        },
        "eff3a23cf4e141b4bcc69e8a955f0a35": {
          "model_module": "@jupyter-widgets/controls",
          "model_name": "ProgressStyleModel",
          "model_module_version": "1.5.0",
          "state": {
            "_model_module": "@jupyter-widgets/controls",
            "_model_module_version": "1.5.0",
            "_model_name": "ProgressStyleModel",
            "_view_count": null,
            "_view_module": "@jupyter-widgets/base",
            "_view_module_version": "1.2.0",
            "_view_name": "StyleView",
            "bar_color": null,
            "description_width": ""
          }
        },
        "7cc5c457f1a64ef6957096178dbae726": {
          "model_module": "@jupyter-widgets/base",
          "model_name": "LayoutModel",
          "model_module_version": "1.2.0",
          "state": {
            "_model_module": "@jupyter-widgets/base",
            "_model_module_version": "1.2.0",
            "_model_name": "LayoutModel",
            "_view_count": null,
            "_view_module": "@jupyter-widgets/base",
            "_view_module_version": "1.2.0",
            "_view_name": "LayoutView",
            "align_content": null,
            "align_items": null,
            "align_self": null,
            "border": null,
            "bottom": null,
            "display": null,
            "flex": null,
            "flex_flow": null,
            "grid_area": null,
            "grid_auto_columns": null,
            "grid_auto_flow": null,
            "grid_auto_rows": null,
            "grid_column": null,
            "grid_gap": null,
            "grid_row": null,
            "grid_template_areas": null,
            "grid_template_columns": null,
            "grid_template_rows": null,
            "height": null,
            "justify_content": null,
            "justify_items": null,
            "left": null,
            "margin": null,
            "max_height": null,
            "max_width": null,
            "min_height": null,
            "min_width": null,
            "object_fit": null,
            "object_position": null,
            "order": null,
            "overflow": null,
            "overflow_x": null,
            "overflow_y": null,
            "padding": null,
            "right": null,
            "top": null,
            "visibility": null,
            "width": null
          }
        },
        "5252f287f29b4460974b2bcf36cd10d6": {
          "model_module": "@jupyter-widgets/controls",
          "model_name": "DescriptionStyleModel",
          "model_module_version": "1.5.0",
          "state": {
            "_model_module": "@jupyter-widgets/controls",
            "_model_module_version": "1.5.0",
            "_model_name": "DescriptionStyleModel",
            "_view_count": null,
            "_view_module": "@jupyter-widgets/base",
            "_view_module_version": "1.2.0",
            "_view_name": "StyleView",
            "description_width": ""
          }
        },
        "a5fd36b5bc1e45d2a3027e90a570f242": {
          "model_module": "@jupyter-widgets/controls",
          "model_name": "HBoxModel",
          "model_module_version": "1.5.0",
          "state": {
            "_dom_classes": [],
            "_model_module": "@jupyter-widgets/controls",
            "_model_module_version": "1.5.0",
            "_model_name": "HBoxModel",
            "_view_count": null,
            "_view_module": "@jupyter-widgets/controls",
            "_view_module_version": "1.5.0",
            "_view_name": "HBoxView",
            "box_style": "",
            "children": [
              "IPY_MODEL_374541193bae40a8b1b4aeabeb92eba0",
              "IPY_MODEL_78ac1d7cb4744e2c90373cd1d7ae56dd",
              "IPY_MODEL_94f8cf84b41348148803963be6b76bb7"
            ],
            "layout": "IPY_MODEL_41e6facd2c1f4a12ade9e6e6168db9a4"
          }
        },
        "374541193bae40a8b1b4aeabeb92eba0": {
          "model_module": "@jupyter-widgets/controls",
          "model_name": "HTMLModel",
          "model_module_version": "1.5.0",
          "state": {
            "_dom_classes": [],
            "_model_module": "@jupyter-widgets/controls",
            "_model_module_version": "1.5.0",
            "_model_name": "HTMLModel",
            "_view_count": null,
            "_view_module": "@jupyter-widgets/controls",
            "_view_module_version": "1.5.0",
            "_view_name": "HTMLView",
            "description": "",
            "description_tooltip": null,
            "layout": "IPY_MODEL_a3614083eb534fe6918eae448be4d2e4",
            "placeholder": "​",
            "style": "IPY_MODEL_f61698e10fc64e17ac716b7439bccbd4",
            "value": "100%"
          }
        },
        "78ac1d7cb4744e2c90373cd1d7ae56dd": {
          "model_module": "@jupyter-widgets/controls",
          "model_name": "FloatProgressModel",
          "model_module_version": "1.5.0",
          "state": {
            "_dom_classes": [],
            "_model_module": "@jupyter-widgets/controls",
            "_model_module_version": "1.5.0",
            "_model_name": "FloatProgressModel",
            "_view_count": null,
            "_view_module": "@jupyter-widgets/controls",
            "_view_module_version": "1.5.0",
            "_view_name": "ProgressView",
            "bar_style": "success",
            "description": "",
            "description_tooltip": null,
            "layout": "IPY_MODEL_4a6ad30bb03e4aff9abe42374316c456",
            "max": 100,
            "min": 0,
            "orientation": "horizontal",
            "style": "IPY_MODEL_601fe85c525c416888d135c4d954d18b",
            "value": 100
          }
        },
        "94f8cf84b41348148803963be6b76bb7": {
          "model_module": "@jupyter-widgets/controls",
          "model_name": "HTMLModel",
          "model_module_version": "1.5.0",
          "state": {
            "_dom_classes": [],
            "_model_module": "@jupyter-widgets/controls",
            "_model_module_version": "1.5.0",
            "_model_name": "HTMLModel",
            "_view_count": null,
            "_view_module": "@jupyter-widgets/controls",
            "_view_module_version": "1.5.0",
            "_view_name": "HTMLView",
            "description": "",
            "description_tooltip": null,
            "layout": "IPY_MODEL_d11eea7797b14237bfc8cf9e3a5ded63",
            "placeholder": "​",
            "style": "IPY_MODEL_ceaf0f5e091943738e9c5bfec53d014f",
            "value": " 100/100 [00:35&lt;00:00,  3.23it/s, train_auc=58.45%, skipped=21.59%]"
          }
        },
        "41e6facd2c1f4a12ade9e6e6168db9a4": {
          "model_module": "@jupyter-widgets/base",
          "model_name": "LayoutModel",
          "model_module_version": "1.2.0",
          "state": {
            "_model_module": "@jupyter-widgets/base",
            "_model_module_version": "1.2.0",
            "_model_name": "LayoutModel",
            "_view_count": null,
            "_view_module": "@jupyter-widgets/base",
            "_view_module_version": "1.2.0",
            "_view_name": "LayoutView",
            "align_content": null,
            "align_items": null,
            "align_self": null,
            "border": null,
            "bottom": null,
            "display": null,
            "flex": null,
            "flex_flow": null,
            "grid_area": null,
            "grid_auto_columns": null,
            "grid_auto_flow": null,
            "grid_auto_rows": null,
            "grid_column": null,
            "grid_gap": null,
            "grid_row": null,
            "grid_template_areas": null,
            "grid_template_columns": null,
            "grid_template_rows": null,
            "height": null,
            "justify_content": null,
            "justify_items": null,
            "left": null,
            "margin": null,
            "max_height": null,
            "max_width": null,
            "min_height": null,
            "min_width": null,
            "object_fit": null,
            "object_position": null,
            "order": null,
            "overflow": null,
            "overflow_x": null,
            "overflow_y": null,
            "padding": null,
            "right": null,
            "top": null,
            "visibility": null,
            "width": null
          }
        },
        "a3614083eb534fe6918eae448be4d2e4": {
          "model_module": "@jupyter-widgets/base",
          "model_name": "LayoutModel",
          "model_module_version": "1.2.0",
          "state": {
            "_model_module": "@jupyter-widgets/base",
            "_model_module_version": "1.2.0",
            "_model_name": "LayoutModel",
            "_view_count": null,
            "_view_module": "@jupyter-widgets/base",
            "_view_module_version": "1.2.0",
            "_view_name": "LayoutView",
            "align_content": null,
            "align_items": null,
            "align_self": null,
            "border": null,
            "bottom": null,
            "display": null,
            "flex": null,
            "flex_flow": null,
            "grid_area": null,
            "grid_auto_columns": null,
            "grid_auto_flow": null,
            "grid_auto_rows": null,
            "grid_column": null,
            "grid_gap": null,
            "grid_row": null,
            "grid_template_areas": null,
            "grid_template_columns": null,
            "grid_template_rows": null,
            "height": null,
            "justify_content": null,
            "justify_items": null,
            "left": null,
            "margin": null,
            "max_height": null,
            "max_width": null,
            "min_height": null,
            "min_width": null,
            "object_fit": null,
            "object_position": null,
            "order": null,
            "overflow": null,
            "overflow_x": null,
            "overflow_y": null,
            "padding": null,
            "right": null,
            "top": null,
            "visibility": null,
            "width": null
          }
        },
        "f61698e10fc64e17ac716b7439bccbd4": {
          "model_module": "@jupyter-widgets/controls",
          "model_name": "DescriptionStyleModel",
          "model_module_version": "1.5.0",
          "state": {
            "_model_module": "@jupyter-widgets/controls",
            "_model_module_version": "1.5.0",
            "_model_name": "DescriptionStyleModel",
            "_view_count": null,
            "_view_module": "@jupyter-widgets/base",
            "_view_module_version": "1.2.0",
            "_view_name": "StyleView",
            "description_width": ""
          }
        },
        "4a6ad30bb03e4aff9abe42374316c456": {
          "model_module": "@jupyter-widgets/base",
          "model_name": "LayoutModel",
          "model_module_version": "1.2.0",
          "state": {
            "_model_module": "@jupyter-widgets/base",
            "_model_module_version": "1.2.0",
            "_model_name": "LayoutModel",
            "_view_count": null,
            "_view_module": "@jupyter-widgets/base",
            "_view_module_version": "1.2.0",
            "_view_name": "LayoutView",
            "align_content": null,
            "align_items": null,
            "align_self": null,
            "border": null,
            "bottom": null,
            "display": null,
            "flex": null,
            "flex_flow": null,
            "grid_area": null,
            "grid_auto_columns": null,
            "grid_auto_flow": null,
            "grid_auto_rows": null,
            "grid_column": null,
            "grid_gap": null,
            "grid_row": null,
            "grid_template_areas": null,
            "grid_template_columns": null,
            "grid_template_rows": null,
            "height": null,
            "justify_content": null,
            "justify_items": null,
            "left": null,
            "margin": null,
            "max_height": null,
            "max_width": null,
            "min_height": null,
            "min_width": null,
            "object_fit": null,
            "object_position": null,
            "order": null,
            "overflow": null,
            "overflow_x": null,
            "overflow_y": null,
            "padding": null,
            "right": null,
            "top": null,
            "visibility": null,
            "width": null
          }
        },
        "601fe85c525c416888d135c4d954d18b": {
          "model_module": "@jupyter-widgets/controls",
          "model_name": "ProgressStyleModel",
          "model_module_version": "1.5.0",
          "state": {
            "_model_module": "@jupyter-widgets/controls",
            "_model_module_version": "1.5.0",
            "_model_name": "ProgressStyleModel",
            "_view_count": null,
            "_view_module": "@jupyter-widgets/base",
            "_view_module_version": "1.2.0",
            "_view_name": "StyleView",
            "bar_color": null,
            "description_width": ""
          }
        },
        "d11eea7797b14237bfc8cf9e3a5ded63": {
          "model_module": "@jupyter-widgets/base",
          "model_name": "LayoutModel",
          "model_module_version": "1.2.0",
          "state": {
            "_model_module": "@jupyter-widgets/base",
            "_model_module_version": "1.2.0",
            "_model_name": "LayoutModel",
            "_view_count": null,
            "_view_module": "@jupyter-widgets/base",
            "_view_module_version": "1.2.0",
            "_view_name": "LayoutView",
            "align_content": null,
            "align_items": null,
            "align_self": null,
            "border": null,
            "bottom": null,
            "display": null,
            "flex": null,
            "flex_flow": null,
            "grid_area": null,
            "grid_auto_columns": null,
            "grid_auto_flow": null,
            "grid_auto_rows": null,
            "grid_column": null,
            "grid_gap": null,
            "grid_row": null,
            "grid_template_areas": null,
            "grid_template_columns": null,
            "grid_template_rows": null,
            "height": null,
            "justify_content": null,
            "justify_items": null,
            "left": null,
            "margin": null,
            "max_height": null,
            "max_width": null,
            "min_height": null,
            "min_width": null,
            "object_fit": null,
            "object_position": null,
            "order": null,
            "overflow": null,
            "overflow_x": null,
            "overflow_y": null,
            "padding": null,
            "right": null,
            "top": null,
            "visibility": null,
            "width": null
          }
        },
        "ceaf0f5e091943738e9c5bfec53d014f": {
          "model_module": "@jupyter-widgets/controls",
          "model_name": "DescriptionStyleModel",
          "model_module_version": "1.5.0",
          "state": {
            "_model_module": "@jupyter-widgets/controls",
            "_model_module_version": "1.5.0",
            "_model_name": "DescriptionStyleModel",
            "_view_count": null,
            "_view_module": "@jupyter-widgets/base",
            "_view_module_version": "1.2.0",
            "_view_name": "StyleView",
            "description_width": ""
          }
        }
      }
    }
  },
  "cells": [
    {
      "cell_type": "markdown",
      "metadata": {
        "id": "view-in-github",
        "colab_type": "text"
      },
      "source": [
        "<a href=\"https://colab.research.google.com/github/ngochuyen2609/tv-program-recommender/blob/1/cf.ipynb\" target=\"_parent\"><img src=\"https://colab.research.google.com/assets/colab-badge.svg\" alt=\"Open In Colab\"/></a>"
      ]
    },
    {
      "cell_type": "markdown",
      "source": [
        "**Chuẩn hoá & JOIN**\n",
        "\n"
      ],
      "metadata": {
        "id": "zeerkqteI-VY"
      }
    },
    {
      "cell_type": "code",
      "execution_count": null,
      "metadata": {
        "id": "7k1HF6wC13Fo",
        "collapsed": true
      },
      "outputs": [],
      "source": [
        "# CÀI ĐẶT & THIẾT LẬP\n",
        "!pip install gdown -q\n",
        "!pip install pyarrow -q\n",
        "!pip install \"dask[dataframe]\" -q  # Cài đặt Dask\n",
        "\n",
        "import pandas as pd\n",
        "import numpy as np\n",
        "import os\n",
        "import dask.dataframe as dd # Import Dask DataFrame\n",
        "from dask.diagnostics import ProgressBar\n",
        "\n",
        "# Tạo các thư mục để lưu kết quả\n",
        "os.makedirs('data/interim', exist_ok=True)"
      ]
    },
    {
      "cell_type": "code",
      "source": [
        "# TẢI DỮ LIỆU\n",
        "\n",
        "# Dictionary chứa ID và tên file\n",
        "files_to_download = {\n",
        "    \"dataset11-30.csv\": \"1oxX2lMwmMHHXJHQFAs94I-Wxl57ckX7L\",\n",
        "    \"export_arh_11-20-final.csv\": \"1cSNZhAevGeL4yVDOG8Rpao4qhQFEaqAL\",\n",
        "    \"export_arh_21-30-final.csv\": \"1lPLm--x1lhUYbTE1HxZPLMp7dCT6l0n5\",\n",
        "    \"export_arh_31-42-final.csv\": \"1SGSEgSbm4Lniy9AJWHzNH3HEQ5mA6_Ab\",\n",
        "    \"submission.csv\": \"1nmlPqHj8iYxVIGvVax_SEnwrAkJf5oOj\"\n",
        "}\n",
        "\n",
        "for filename, file_id in files_to_download.items():\n",
        "    if \"YOUR_FILE_ID\" in file_id:\n",
        "        print(f\"   -> CẢNH BÁO: Vui lòng cung cấp ID cho file '{filename}'\")\n",
        "    else:\n",
        "        print(f\"   -> Đang tải {filename}...\")\n",
        "        !gdown --id {file_id} -O {filename}\n",
        "\n",
        "print(\"   -> Tải dữ liệu hoàn tất!\")"
      ],
      "metadata": {
        "colab": {
          "base_uri": "https://localhost:8080/"
        },
        "id": "ko86J5h414DS",
        "outputId": "54d15c21-07d8-4ac0-f94e-b96f35d5ca9a",
        "collapsed": true
      },
      "execution_count": null,
      "outputs": [
        {
          "output_type": "stream",
          "name": "stdout",
          "text": [
            "   -> Đang tải dataset11-30.csv...\n",
            "/usr/local/lib/python3.12/dist-packages/gdown/__main__.py:140: FutureWarning: Option `--id` was deprecated in version 4.3.1 and will be removed in 5.0. You don't need to pass it anymore to use a file ID.\n",
            "  warnings.warn(\n",
            "Downloading...\n",
            "From (original): https://drive.google.com/uc?id=1oxX2lMwmMHHXJHQFAs94I-Wxl57ckX7L\n",
            "From (redirected): https://drive.google.com/uc?id=1oxX2lMwmMHHXJHQFAs94I-Wxl57ckX7L&confirm=t&uuid=8f26702e-804b-4548-bdd0-d4bb4f071c44\n",
            "To: /content/dataset11-30.csv\n",
            "100% 396M/396M [00:04<00:00, 93.0MB/s]\n",
            "   -> Đang tải export_arh_11-20-final.csv...\n",
            "/usr/local/lib/python3.12/dist-packages/gdown/__main__.py:140: FutureWarning: Option `--id` was deprecated in version 4.3.1 and will be removed in 5.0. You don't need to pass it anymore to use a file ID.\n",
            "  warnings.warn(\n",
            "Downloading...\n",
            "From (original): https://drive.google.com/uc?id=1cSNZhAevGeL4yVDOG8Rpao4qhQFEaqAL\n",
            "From (redirected): https://drive.google.com/uc?id=1cSNZhAevGeL4yVDOG8Rpao4qhQFEaqAL&confirm=t&uuid=dc15656e-c5a1-48b6-b7b5-f7ac420beea0\n",
            "To: /content/export_arh_11-20-final.csv\n",
            "100% 153M/153M [00:01<00:00, 95.4MB/s]\n",
            "   -> Đang tải export_arh_21-30-final.csv...\n",
            "/usr/local/lib/python3.12/dist-packages/gdown/__main__.py:140: FutureWarning: Option `--id` was deprecated in version 4.3.1 and will be removed in 5.0. You don't need to pass it anymore to use a file ID.\n",
            "  warnings.warn(\n",
            "Downloading...\n",
            "From (original): https://drive.google.com/uc?id=1lPLm--x1lhUYbTE1HxZPLMp7dCT6l0n5\n",
            "From (redirected): https://drive.google.com/uc?id=1lPLm--x1lhUYbTE1HxZPLMp7dCT6l0n5&confirm=t&uuid=de05168f-f200-4e57-8359-1ca44b0e5b50\n",
            "To: /content/export_arh_21-30-final.csv\n",
            "100% 154M/154M [00:01<00:00, 117MB/s]\n",
            "   -> Đang tải export_arh_31-42-final.csv...\n",
            "/usr/local/lib/python3.12/dist-packages/gdown/__main__.py:140: FutureWarning: Option `--id` was deprecated in version 4.3.1 and will be removed in 5.0. You don't need to pass it anymore to use a file ID.\n",
            "  warnings.warn(\n",
            "Downloading...\n",
            "From (original): https://drive.google.com/uc?id=1SGSEgSbm4Lniy9AJWHzNH3HEQ5mA6_Ab\n",
            "From (redirected): https://drive.google.com/uc?id=1SGSEgSbm4Lniy9AJWHzNH3HEQ5mA6_Ab&confirm=t&uuid=4303f37f-7118-4ef1-bf4c-0c5015720390\n",
            "To: /content/export_arh_31-42-final.csv\n",
            "100% 186M/186M [00:01<00:00, 130MB/s]\n",
            "   -> Đang tải submission.csv...\n",
            "/usr/local/lib/python3.12/dist-packages/gdown/__main__.py:140: FutureWarning: Option `--id` was deprecated in version 4.3.1 and will be removed in 5.0. You don't need to pass it anymore to use a file ID.\n",
            "  warnings.warn(\n",
            "Downloading...\n",
            "From: https://drive.google.com/uc?id=1nmlPqHj8iYxVIGvVax_SEnwrAkJf5oOj\n",
            "To: /content/submission.csv\n",
            "100% 38.3k/38.3k [00:00<00:00, 65.1MB/s]\n",
            "   -> Tải dữ liệu hoàn tất!\n"
          ]
        }
      ]
    },
    {
      "cell_type": "code",
      "source": [
        "# TẢI VÀ CHUẨN HÓA DỮ LIỆU ĐẦU VÀO\n",
        "import pandas as pd\n",
        "import numpy as np\n",
        "\n",
        "\n",
        "# Xử lý file logs (dataset11-30.csv)\n",
        "try:\n",
        "    print(\"   -> Đang xử lý file logs (dataset11-30.csv)...\")\n",
        "    logs_df = pd.read_csv('dataset11-30.csv')\n",
        "    logs_df = logs_df.rename(columns={'stop_time': 'end_time', 'duraton': 'duration'})\n",
        "\n",
        "    # Chuyển đổi cột ngày giờ, tự động nhận diện nhiều định dạng\n",
        "    # (xử lý cả 'DD.MM.YYYY' và 'YYYY-MM-DD')\n",
        "    logs_df['start_time'] = pd.to_datetime(logs_df['start_time'], format='mixed', dayfirst=True)\n",
        "    logs_df['end_time'] = pd.to_datetime(logs_df['end_time'], format='mixed', dayfirst=True)\n",
        "    print(\"      - Chuyển đổi cột ngày giờ trong logs thành công.\")\n",
        "\n",
        "    # Lọc các lượt xem có thời lượng >= 180s\n",
        "    MIN_DURATION = 180\n",
        "    logs_filtered_df = logs_df[logs_df['duration'] >= MIN_DURATION].copy()\n",
        "\n",
        "    # Đổi tên cột để chuẩn bị cho việc join\n",
        "    logs_filtered_df = logs_filtered_df.rename(columns={\n",
        "        'start_time': 'start_time_view',\n",
        "        'end_time': 'end_time_view',\n",
        "        'duration': 'duration_view'\n",
        "    })\n",
        "    print(f\"      - Đã lọc và giữ lại {len(logs_filtered_df)} lượt xem có thời lượng >= {MIN_DURATION}s.\")\n",
        "\n",
        "except FileNotFoundError:\n",
        "    print(\"   -> LỖI: Không tìm thấy file 'dataset11-30.csv'. Hãy chắc chắn bạn đã chạy Cell 2 để tải dữ liệu.\")\n",
        "    assert False, \"File logs không tồn tại.\"\n",
        "\n",
        "\n",
        "# Xử lý file programs (lịch phát sóng)\n",
        "try:\n",
        "    print(\"\\n   -> Đang xử lý các file lịch phát sóng...\")\n",
        "    prog_11_20 = pd.read_csv('export_arh_11-20-final.csv')\n",
        "    prog_21_30 = pd.read_csv('export_arh_21-30-final.csv')\n",
        "\n",
        "    # Ghép hai file lịch phát sóng lại\n",
        "    programs_df = pd.concat([prog_11_20, prog_21_30], ignore_index=True)\n",
        "\n",
        "    # Loại bỏ các chương trình không liên quan (tv_show_id = 0)\n",
        "    programs_df = programs_df[programs_df['tv_show_id'] != 0].copy()\n",
        "\n",
        "    # Chuyển đổi cột ngày giờ, tự động nhận diện nhiều định dạng\n",
        "    programs_df['start_time'] = pd.to_datetime(programs_df['start_time'], format='mixed', dayfirst=True)\n",
        "\n",
        "    # Đổi tên cột để chuẩn bị cho việc join\n",
        "    programs_df = programs_df.rename(columns={\n",
        "        'start_time': 'start_time_prog',\n",
        "        'duration': 'duration_prog'\n",
        "    })\n",
        "    print(f\"      - Đã gộp và xử lý {len(programs_df)} chương trình hợp lệ.\")\n",
        "\n",
        "except FileNotFoundError:\n",
        "    print(\"   -> LỖI: Không tìm thấy file 'export_arh_...'.\")\n",
        "    assert False, \"File lịch phát sóng không tồn tại.\"\n",
        "\n",
        "print(\"\\n   -> Chuẩn hóa dữ liệu hoàn tất. Các DataFrame 'logs_filtered_df' và 'programs_df' đã sẵn sàng.\")"
      ],
      "metadata": {
        "colab": {
          "base_uri": "https://localhost:8080/"
        },
        "id": "8eeie-hu16Hu",
        "outputId": "10ab6006-36f5-4a5a-b033-9bbecad38ed5"
      },
      "execution_count": null,
      "outputs": [
        {
          "output_type": "stream",
          "name": "stdout",
          "text": [
            "   -> Đang xử lý file logs (dataset11-30.csv)...\n",
            "      - Chuyển đổi cột ngày giờ trong logs thành công.\n",
            "      - Đã lọc và giữ lại 3927546 lượt xem có thời lượng >= 180s.\n",
            "\n",
            "   -> Đang xử lý các file lịch phát sóng...\n",
            "      - Đã gộp và xử lý 237118 chương trình hợp lệ.\n",
            "\n",
            "   -> Chuẩn hóa dữ liệu hoàn tất. Các DataFrame 'logs_filtered_df' và 'programs_df' đã sẵn sàng.\n"
          ]
        }
      ]
    },
    {
      "cell_type": "code",
      "source": [
        "# RIỂN KHAI LOGIC TỪ join_program.py\n",
        "import pandas as pd\n",
        "import numpy as np\n",
        "import gc\n",
        "\n",
        "def _pick_overlap(logs_ch: pd.DataFrame, meta_ch: pd.DataFrame) -> pd.DataFrame:\n",
        "    # Trả về dataframe rỗng nếu không có dữ liệu đầu vào\n",
        "    required_cols = [\"user_id\",\"tv_show_id\",\"vsetv_id\",\"start_time_view\",\"end_time_view\",\"duration_view\"]\n",
        "    if logs_ch.empty or meta_ch.empty:\n",
        "        return pd.DataFrame(columns=required_cols)\n",
        "\n",
        "    # Chuẩn bị dữ liệu\n",
        "    meta_ch = meta_ch.sort_values(\"start_time\").reset_index(drop=True)\n",
        "    logs_ch = logs_ch.copy()\n",
        "    logs_ch[\"view_id\"] = np.arange(len(logs_ch))\n",
        "\n",
        "    cand_L = pd.merge_asof(\n",
        "        logs_ch.sort_values(\"start_time_view\"),\n",
        "        meta_ch,\n",
        "        left_on=\"start_time_view\",\n",
        "        right_on=\"start_time\",\n",
        "        direction=\"backward\", # Tìm chương trình gần nhất về trước\n",
        "        allow_exact_matches=True\n",
        "    )\n",
        "\n",
        "    cand_R = pd.merge_asof(\n",
        "        logs_ch.sort_values(\"end_time_view\"),\n",
        "        meta_ch,\n",
        "        left_on=\"end_time_view\",\n",
        "        right_on=\"start_time\",\n",
        "        direction=\"backward\",\n",
        "        allow_exact_matches=True\n",
        "    )\n",
        "\n",
        "    # Gộp và lọc các ứng viên\n",
        "    cand = pd.concat([cand_L, cand_R], ignore_index=True).dropna(subset=[\"tv_show_id\"])\n",
        "    if cand.empty:\n",
        "        return pd.DataFrame(columns=required_cols)\n",
        "\n",
        "    # Tính toán thời gian giao nhau (overlap) > 0\n",
        "    s = np.maximum(cand[\"start_time_view\"].values, cand[\"start_time\"].values)\n",
        "    e = np.minimum(cand[\"end_time_view\"].values, cand[\"prog_end\"].values)\n",
        "    overlap_seconds = (e - s).astype('timedelta64[s]').astype(int)\n",
        "\n",
        "    cand[\"overlap_s\"] = overlap_seconds\n",
        "    cand = cand[cand[\"overlap_s\"] > 0]\n",
        "    if cand.empty:\n",
        "        return pd.DataFrame(columns=required_cols)\n",
        "\n",
        "    # Chọn ứng viên có overlap lớn nhất cho mỗi lượt xem\n",
        "    cand = cand.sort_values([\"view_id\", \"overlap_s\"], ascending=[True, False])\n",
        "    best_match = cand.drop_duplicates(subset=[\"view_id\"], keep=\"first\")\n",
        "\n",
        "    return best_match[required_cols].reset_index(drop=True)\n",
        "\n",
        "def interval_join_logs_with_program(logs: pd.DataFrame, meta: pd.DataFrame) -> pd.DataFrame:\n",
        "    all_matches = []\n",
        "    # Lặp qua từng kênh để giữ mức sử dụng RAM luôn thấp\n",
        "    channel_groups = logs.groupby(\"vsetv_id\", sort=False)\n",
        "    num_channels = len(channel_groups)\n",
        "\n",
        "    print(f\"   -> Bắt đầu xử lý {num_channels} kênh một cách tuần tự...\")\n",
        "    for i, (vid, logs_ch) in enumerate(channel_groups):\n",
        "        meta_ch = meta[meta[\"channel_id\"] == vid]\n",
        "        matched = _pick_overlap(logs_ch, meta_ch)\n",
        "        if not matched.empty:\n",
        "            all_matches.append(matched)\n",
        "        if (i + 1) % 50 == 0:\n",
        "             print(f\"      - Đã xử lý {i + 1}/{num_channels} kênh...\")\n",
        "\n",
        "    if not all_matches:\n",
        "        return pd.DataFrame(columns=[\"user_id\",\"tv_show_id\",\"vsetv_id\",\"start_time_view\",\"end_time_view\",\"duration_view\"])\n",
        "\n",
        "    print(\"   -> Ghép kết quả từ tất cả các kênh...\")\n",
        "    return pd.concat(all_matches, ignore_index=True)\n",
        "\n",
        "\n",
        "\n",
        "try:\n",
        "    if 'prog_end' not in programs_df.columns:\n",
        "        programs_df['prog_end'] = programs_df['start_time_prog'] + pd.to_timedelta(programs_df['duration_prog'], unit='s')\n",
        "\n",
        "    programs_df = programs_df.rename(columns={'start_time_prog': 'start_time'})\n",
        "\n",
        "    joined_df = interval_join_logs_with_program(logs_filtered_df, programs_df)\n",
        "\n",
        "    # Tính toán và kiểm tra coverage (dựa trên số lượng log)\n",
        "    coverage = len(joined_df) / len(logs_filtered_df) if len(logs_filtered_df) > 0 else 0\n",
        "    print(f\"\\n      - CHECKPOINT: Coverage = {len(joined_df)} / {len(logs_filtered_df)} = {coverage:.3f} (kỳ vọng > 0.70)\")\n",
        "\n",
        "    # Lưu kết quả\n",
        "    output_path = 'data/interim/logs_program.parquet'\n",
        "    joined_df.to_parquet(output_path, index=False)\n",
        "    print(f\"   -> Dữ liệu đã được lưu tại: {output_path}\")\n",
        "\n",
        "    # Dọn dẹp RAM\n",
        "    del logs_filtered_df, programs_df, joined_df\n",
        "    gc.collect()\n",
        "    print(\"   -> Đã dọn dẹp bộ nhớ RAM.\")\n",
        "\n",
        "except NameError:\n",
        "    print(\"\\n   -> LỖI: Không tìm thấy 'logs_filtered_df' hoặc 'programs_df'.\")"
      ],
      "metadata": {
        "colab": {
          "base_uri": "https://localhost:8080/"
        },
        "id": "HWO8Uf88-izH",
        "outputId": "9c2a9f25-5a47-4f5e-b20a-b8fa70f5661c"
      },
      "execution_count": null,
      "outputs": [
        {
          "output_type": "stream",
          "name": "stdout",
          "text": [
            "   -> Bắt đầu xử lý 200 kênh một cách tuần tự...\n",
            "      - Đã xử lý 50/200 kênh...\n",
            "      - Đã xử lý 100/200 kênh...\n",
            "      - Đã xử lý 150/200 kênh...\n",
            "      - Đã xử lý 200/200 kênh...\n",
            "   -> Ghép kết quả từ tất cả các kênh...\n",
            "\n",
            "      - CHECKPOINT: Coverage = 2122836 / 3927546 = 0.540 (kỳ vọng > 0.70)\n",
            "   -> Dữ liệu đã được lưu tại: data/interim/logs_program.parquet\n",
            "   -> Đã dọn dẹp bộ nhớ RAM.\n"
          ]
        }
      ]
    },
    {
      "cell_type": "markdown",
      "source": [
        "**Session hoá & Split thời gian**"
      ],
      "metadata": {
        "id": "k9Um_7dmJWkE"
      }
    },
    {
      "cell_type": "code",
      "source": [
        "# SESSIONIZE VÀ SPLIT\n",
        "input_path = 'data/interim/logs_program.parquet'\n",
        "try:\n",
        "    df = pd.read_parquet(input_path)\n",
        "    df['start_time_view'] = pd.to_datetime(df['start_time_view'])\n",
        "    print(f\"   -> Đã tải thành công {len(df)} bản ghi từ '{input_path}'.\")\n",
        "except FileNotFoundError:\n",
        "    print(f\"   -> LỖI: Không tìm thấy file '{input_path}'.\")\n",
        "    # Dừng thực thi nếu file không tồn tại\n",
        "    assert False, \"File đầu vào không tồn tại.\"\n",
        "\n",
        "\n",
        "print(\"   -> Đang tạo session...\")\n",
        "df = df.sort_values(['user_id', 'start_time_view']).reset_index(drop=True)\n",
        "df['time_gap'] = df.groupby('user_id')['start_time_view'].diff()\n",
        "# Sử dụng giá trị mặc định từ script của bạn\n",
        "GAP_MINUTES = 45\n",
        "SESSION_GAP = pd.Timedelta(f'{GAP_MINUTES} minutes')\n",
        "is_new_session = (df['time_gap'] > SESSION_GAP)\n",
        "df['session_id'] = is_new_session.cumsum()\n",
        "print(f\"      - Đã tạo ra {df['session_id'].nunique()} sessions với khoảng nghỉ > {GAP_MINUTES} phút.\")\n",
        "\n",
        "\n",
        "print(\"   -> Chia dữ liệu thành tập train và validation...\")\n",
        "df['week'] = df['start_time_view'].dt.isocalendar().week\n",
        "train_df = df[(df['week'] >= 11) & (df['week'] <= 24)]\n",
        "val_df = df[(df['week'] >= 25) & (df['week'] <= 30)]\n",
        "print(f\"      - Tập Train (Tuần 11-24): {len(train_df)} bản ghi\")\n",
        "print(f\"      - Tập Validation (Tuần 25-30): {len(val_df)} bản ghi\")\n",
        "\n",
        "\n",
        "train_path = 'data/interim/train.parquet'\n",
        "val_path = 'data/interim/val.parquet'\n",
        "train_df.to_parquet(train_path, index=False)\n",
        "val_df.to_parquet(val_path, index=False)\n",
        "print(f\"      - Đã lưu tập train tại: {train_path}\")\n",
        "print(f\"      - Đã lưu tập validation tại: {val_path}\")\n",
        "\n",
        "print(\"-\" * 50)\n"
      ],
      "metadata": {
        "id": "TLpqBXuk191L",
        "colab": {
          "base_uri": "https://localhost:8080/"
        },
        "outputId": "5d2b2c6c-6b23-4175-c510-42abb085078f"
      },
      "execution_count": null,
      "outputs": [
        {
          "output_type": "stream",
          "name": "stdout",
          "text": [
            "   -> Đã tải thành công 2122836 bản ghi từ 'data/interim/logs_program.parquet'.\n",
            "   -> Đang tạo session...\n",
            "      - Đã tạo ra 1175897 sessions với khoảng nghỉ > 45 phút.\n",
            "   -> Chia dữ liệu thành tập train và validation...\n",
            "      - Tập Train (Tuần 11-24): 1647303 bản ghi\n",
            "      - Tập Validation (Tuần 25-30): 475533 bản ghi\n",
            "      - Đã lưu tập train tại: data/interim/train.parquet\n",
            "      - Đã lưu tập validation tại: data/interim/val.parquet\n",
            "--------------------------------------------------\n"
          ]
        }
      ]
    },
    {
      "cell_type": "markdown",
      "source": [
        "**CF cơ bản/nâng cao**"
      ],
      "metadata": {
        "id": "LpQWISnqI8FZ"
      }
    },
    {
      "cell_type": "code",
      "source": [
        "# CÀI ĐẶT THƯ VIỆN VÀ TẠO THƯ MỤC\n",
        "print(\"1. Cài đặt các thư viện cần thiết...\")\n",
        "# Cài đặt thư viện cho ALS, BPR, ItemKNN\n",
        "!pip install implicit -q\n",
        "# Cài đặt PyTorch cho LightGCN\n",
        "!pip install torch -q\n",
        "\n",
        "print(\"\\n2. Tạo các thư mục đầu ra...\")\n",
        "import os\n",
        "os.makedirs('data/candidates', exist_ok=True)\n",
        "os.makedirs('candidates', exist_ok=True)\n",
        "print(\"   -> Các thư mục đã sẵn sàng!\")"
      ],
      "metadata": {
        "colab": {
          "base_uri": "https://localhost:8080/"
        },
        "id": "zwygrDTfJ2iM",
        "outputId": "7188d149-153b-4e7b-bc4b-7690deceab0d"
      },
      "execution_count": null,
      "outputs": [
        {
          "output_type": "stream",
          "name": "stdout",
          "text": [
            "1. Cài đặt các thư viện cần thiết...\n",
            "\u001b[2K     \u001b[90m━━━━━━━━━━━━━━━━━━━━━━━━━━━━━━━━━━━━━━━━\u001b[0m \u001b[32m70.3/70.3 kB\u001b[0m \u001b[31m2.5 MB/s\u001b[0m eta \u001b[36m0:00:00\u001b[0m\n",
            "\u001b[?25h  Installing build dependencies ... \u001b[?25l\u001b[?25hdone\n",
            "  Getting requirements to build wheel ... \u001b[?25l\u001b[?25hdone\n",
            "  Preparing metadata (pyproject.toml) ... \u001b[?25l\u001b[?25hdone\n",
            "  Building wheel for implicit (pyproject.toml) ... \u001b[?25l\u001b[?25hdone\n",
            "\n",
            "2. Tạo các thư mục đầu ra...\n",
            "   -> Các thư mục đã sẵn sàng!\n"
          ]
        }
      ]
    },
    {
      "cell_type": "markdown",
      "source": [
        "\n",
        "1.   TopPop\n",
        "\n"
      ],
      "metadata": {
        "id": "yL16bj4LKGos"
      }
    },
    {
      "cell_type": "code",
      "source": [
        "import pandas as pd\n",
        "import numpy as np\n",
        "import argparse\n",
        "from pathlib import Path\n",
        "\n",
        "def run(train_path: str, output_path: str, alpha_days: float):\n",
        "    print(f\"Bắt đầu chạy TopPop với alpha = {alpha_days} ngày...\")\n",
        "    train_df = pd.read_parquet(train_path)\n",
        "\n",
        "    # Tính toán điểm phổ biến\n",
        "    current_time = train_df['start_time_view'].max()\n",
        "\n",
        "    train_df['delta_t'] = (current_time - train_df['start_time_view']).dt.total_seconds() / (24 * 3600)\n",
        "    train_df['time_weight'] = np.exp(-train_df['delta_t'] / alpha_days)\n",
        "    train_df['duration_weight'] = np.log1p(train_df['duration_view'])\n",
        "    train_df['popularity_score'] = train_df['time_weight'] * train_df['duration_weight']\n",
        "    item_popularity = train_df.groupby('tv_show_id')['popularity_score'].sum().sort_values(ascending=False).reset_index()\n",
        "\n",
        "    # Lưu kết quả\n",
        "    Path(output_path).parent.mkdir(parents=True, exist_ok=True)\n",
        "    item_popularity.to_parquet(output_path, index=False)\n",
        "    print(f\"Đã lưu bảng xếp hạng TopPop vào: {output_path}\")\n",
        "    print(f\"Top 5 chương trình phổ biến nhất:\\n{item_popularity.head()}\")\n",
        "\n",
        "train_path = \"data/interim/train.parquet\"\n",
        "output_path = \"data/candidates/toppop.parquet\"\n",
        "alpha = 15.0\n",
        "run(train_path, output_path, alpha)"
      ],
      "metadata": {
        "colab": {
          "base_uri": "https://localhost:8080/"
        },
        "id": "d26vogxyLJVI",
        "outputId": "cd331914-1d0c-4be8-c815-cd740d0c5c32"
      },
      "execution_count": null,
      "outputs": [
        {
          "output_type": "stream",
          "name": "stdout",
          "text": [
            "Bắt đầu chạy TopPop với alpha = 15.0 ngày...\n",
            "Đã lưu bảng xếp hạng TopPop vào: data/candidates/toppop.parquet\n",
            "Top 5 chương trình phổ biến nhất:\n",
            "   tv_show_id  popularity_score\n",
            "0   2400480.0      57308.211900\n",
            "1    240081.0      33204.095094\n",
            "2   6500479.0      27835.996343\n",
            "3   2400508.0      22541.891228\n",
            "4   2400467.0      20508.352953\n"
          ]
        }
      ]
    },
    {
      "cell_type": "markdown",
      "source": [
        "\n",
        "\n",
        "2.   ItemKNN\n",
        "\n",
        "\n"
      ],
      "metadata": {
        "id": "_Jq7QZ__yPwt"
      }
    },
    {
      "cell_type": "code",
      "source": [
        "import pandas as pd\n",
        "import numpy as np\n",
        "import scipy.sparse as sp\n",
        "from implicit.nearest_neighbours import CosineRecommender\n",
        "from pathlib import Path\n",
        "from tqdm import tqdm\n",
        "\n",
        "def build_user_item_matrix(df: pd.DataFrame):\n",
        "\n",
        "    df.dropna(subset=['user_id', 'tv_show_id', 'duration_view'], inplace=True)\n",
        "\n",
        "    df['user_id'] = df['user_id'].astype('category')\n",
        "    df['tv_show_id'] = df['tv_show_id'].astype('category')\n",
        "\n",
        "    user_codes = df['user_id'].cat.codes\n",
        "    item_codes = df['tv_show_id'].cat.codes\n",
        "\n",
        "    matrix = sp.csr_matrix(\n",
        "        (np.log1p(df['duration_view']), (user_codes, item_codes)),\n",
        "        shape=(len(df['user_id'].cat.categories), len(df['tv_show_id'].cat.categories))\n",
        "    )\n",
        "\n",
        "    user_map = {cat: i for i, cat in enumerate(df['user_id'].cat.categories)}\n",
        "    rev_item_map = {i: cat for i, cat in enumerate(df['tv_show_id'].cat.categories)}\n",
        "\n",
        "    return matrix, user_map, rev_item_map\n",
        "\n",
        "def run(train_path: str, output_path: str, K: int, num_candidates: int):\n",
        "    print(f\"Bắt đầu chạy ItemKNN với K = {K}...\")\n",
        "    train_df = pd.read_parquet(train_path)\n",
        "\n",
        "    user_item_matrix, user_map, rev_item_map = build_user_item_matrix(train_df)\n",
        "    num_items = len(rev_item_map) # Tổng số item hợp lệ\n",
        "\n",
        "    # Khởi tạo và huấn luyện mô hình\n",
        "    model = CosineRecommender(K=K)\n",
        "    model.fit(user_item_matrix.T.tocsr())\n",
        "    print(\"Huấn luyện mô hình ItemKNN hoàn tất.\")\n",
        "\n",
        "    # Lặp qua từng người dùng để tạo gợi ý\n",
        "    print(\"Tạo gợi ý cho từng người dùng...\")\n",
        "    candidates = []\n",
        "    original_user_ids = list(user_map.keys())\n",
        "    skipped_count = 0\n",
        "\n",
        "    for original_user_id in tqdm(original_user_ids, desc=\"Generating recommendations\"):\n",
        "        user_idx = user_map[original_user_id]\n",
        "\n",
        "        ids, scores = model.recommend(\n",
        "            userid=user_idx,\n",
        "            user_items=user_item_matrix[user_idx],\n",
        "            N=num_candidates,\n",
        "            filter_already_liked_items=True\n",
        "        )\n",
        "\n",
        "        for rank, item_idx in enumerate(ids):\n",
        "            if item_idx in rev_item_map:\n",
        "                candidates.append({\n",
        "                    \"user_id\": original_user_id,\n",
        "                    \"tv_show_id\": rev_item_map[item_idx],\n",
        "                    \"rank\": rank + 1\n",
        "                })\n",
        "            else:\n",
        "                skipped_count += 1\n",
        "\n",
        "    candidate_df = pd.DataFrame(candidates)\n",
        "    Path(output_path).parent.mkdir(parents=True, exist_ok=True)\n",
        "    candidate_df.to_parquet(output_path, index=False)\n",
        "    print(f\"Đã lưu {len(candidate_df)} gợi ý ItemKNN vào: {output_path}\")\n",
        "    if skipped_count > 0:\n",
        "        print(f\"CẢNH BÁO: Đã bỏ qua {skipped_count} gợi ý không hợp lệ do model trả về.\")\n",
        "\n",
        "# 1. Định nghĩa các tham số\n",
        "train_path = \"data/interim/train.parquet\"\n",
        "output_path = \"data/candidates/itemknn.parquet\"\n",
        "k_neighbors = 200\n",
        "num_cands = 50\n",
        "\n",
        "# 2. Gọi hàm run\n",
        "run(train_path, output_path, k_neighbors, num_cands)"
      ],
      "metadata": {
        "colab": {
          "base_uri": "https://localhost:8080/",
          "height": 243,
          "referenced_widgets": [
            "b0ac52aa595a4805bf79eb488886c563",
            "6bc364e79b4b48299010cbe64fb108fd",
            "4c32a51a22d043c1ae0485ff6a6a03b1",
            "164c55cacf1d4b4782278715286289a7",
            "902ebb85c1094e7fa6d6931f2e9dcbf6",
            "9dda32fc8592495493f8c2b486b8aca7",
            "69b233119ed649c18d6ad29f266cb9e8",
            "087efdf8824048e4a641752332832bae",
            "4a5b4320fcc6444481a029baaea87009",
            "4c172e5a6c584f68baedc8874ed33eb2",
            "7b09cfd98c9a443db95278447daaf1f5"
          ]
        },
        "id": "01CF6u6MLRr8",
        "outputId": "b6d2dda2-2406-4b9b-88c2-77d8ccc43538"
      },
      "execution_count": null,
      "outputs": [
        {
          "output_type": "stream",
          "name": "stderr",
          "text": [
            "/usr/local/lib/python3.12/dist-packages/implicit/gpu/__init__.py:13: UserWarning: CUDA extension is built, but disabling GPU support because of 'Cuda Error: CUDA driver version is insufficient for CUDA runtime version (/tmp/pip-install-4xnidzux/implicit_80ca4f25999d4923bd0c0d34c97b3b5e/./implicit/gpu/utils.h:71)'\n",
            "  warnings.warn(\n"
          ]
        },
        {
          "output_type": "stream",
          "name": "stdout",
          "text": [
            "Bắt đầu chạy ItemKNN với K = 200...\n"
          ]
        },
        {
          "output_type": "stream",
          "name": "stderr",
          "text": [
            "/usr/local/lib/python3.12/dist-packages/implicit/utils.py:164: ParameterWarning: Method expects CSR input, and was passed coo_matrix instead. Converting to CSR took 0.016211748123168945 seconds\n",
            "  warnings.warn(\n"
          ]
        },
        {
          "output_type": "display_data",
          "data": {
            "text/plain": [
              "  0%|          | 0/4851 [00:00<?, ?it/s]"
            ],
            "application/vnd.jupyter.widget-view+json": {
              "version_major": 2,
              "version_minor": 0,
              "model_id": "b0ac52aa595a4805bf79eb488886c563"
            }
          },
          "metadata": {}
        },
        {
          "output_type": "stream",
          "name": "stdout",
          "text": [
            "Huấn luyện mô hình ItemKNN hoàn tất.\n",
            "Tạo gợi ý cho từng người dùng...\n"
          ]
        },
        {
          "output_type": "stream",
          "name": "stderr",
          "text": [
            "Generating recommendations: 100%|██████████| 4851/4851 [00:02<00:00, 2253.12it/s]\n"
          ]
        },
        {
          "output_type": "stream",
          "name": "stdout",
          "text": [
            "Đã lưu 185241 gợi ý ItemKNN vào: data/candidates/itemknn.parquet\n",
            "CẢNH BÁO: Đã bỏ qua 57309 gợi ý không hợp lệ do model trả về.\n"
          ]
        }
      ]
    },
    {
      "cell_type": "markdown",
      "source": [
        "\n",
        "\n",
        "\n",
        "3.   ALS/WMF\n",
        "\n"
      ],
      "metadata": {
        "id": "sJiUwYHdysha"
      }
    },
    {
      "cell_type": "code",
      "source": [
        "import pandas as pd\n",
        "import numpy as np\n",
        "import scipy.sparse as sp\n",
        "from implicit.als import AlternatingLeastSquares\n",
        "from pathlib import Path\n",
        "from tqdm import tqdm\n",
        "\n",
        "def build_user_item_matrix(df: pd.DataFrame):\n",
        "\n",
        "    df_clean = df.dropna(subset=['user_id', 'tv_show_id', 'duration_view']).copy()\n",
        "\n",
        "    unique_users = sorted(df_clean['user_id'].unique())\n",
        "    unique_items = sorted(df_clean['tv_show_id'].unique())\n",
        "\n",
        "    user_map = {user_id: i for i, user_id in enumerate(unique_users)}\n",
        "    item_map = {item_id: i for i, item_id in enumerate(unique_items)}\n",
        "\n",
        "    user_codes = df_clean['user_id'].map(user_map)\n",
        "    item_codes = df_clean['tv_show_id'].map(item_map)\n",
        "\n",
        "    matrix = sp.csr_matrix(\n",
        "        (np.log1p(df_clean['duration_view']), (user_codes, item_codes)),\n",
        "        shape=(len(unique_users), len(unique_items))\n",
        "    )\n",
        "\n",
        "    rev_item_map = {i: item_id for item_id, i in item_map.items()}\n",
        "\n",
        "    return matrix, user_map, rev_item_map\n",
        "\n",
        "def run(train_path: str, output_path: str, factors: int, reg: float, iters: int, alpha: float, num_candidates: int):\n",
        "    print(f\"Bắt đầu chạy ALS/WMF với factors = {factors}...\")\n",
        "    train_df = pd.read_parquet(train_path)\n",
        "\n",
        "    user_item_matrix, user_map, rev_item_map = build_user_item_matrix(train_df)\n",
        "\n",
        "    # Khởi tạo và huấn luyện mô hình\n",
        "    model = AlternatingLeastSquares(\n",
        "        factors=factors,\n",
        "        regularization=reg,\n",
        "        iterations=iters,\n",
        "        random_state=42,\n",
        "        use_gpu=False\n",
        "    )\n",
        "    model.fit(user_item_matrix.T.tocsr() * alpha)\n",
        "    print(\"Huấn luyện mô hình ALS/WMF hoàn tất.\")\n",
        "\n",
        "    # Lấy số lượng user thực tế mà model đã được huấn luyện\n",
        "    num_model_users = model.user_factors.shape[0]\n",
        "    print(f\"Model được huấn luyện với {num_model_users} users. Đặt giới hạn truy cập tại index {num_model_users - 1}.\")\n",
        "\n",
        "    # Tạo gợi ý cho từng người dùng\n",
        "    print(\"Tạo gợi ý cho từng người dùng...\")\n",
        "    candidates = []\n",
        "    original_user_ids = list(user_map.keys())\n",
        "    skipped_users = 0\n",
        "\n",
        "    for original_user_id in tqdm(original_user_ids, desc=\"Generating recommendations\"):\n",
        "        user_idx = user_map[original_user_id]\n",
        "\n",
        "        if user_idx < num_model_users:\n",
        "            ids, scores = model.recommend(\n",
        "                userid=user_idx,\n",
        "                user_items=user_item_matrix[user_idx],\n",
        "                N=num_candidates,\n",
        "                filter_already_liked_items=True\n",
        "            )\n",
        "\n",
        "            for rank, item_idx in enumerate(ids):\n",
        "                if item_idx in rev_item_map:\n",
        "                    candidates.append({\n",
        "                        \"user_id\": original_user_id,\n",
        "                        \"tv_show_id\": rev_item_map[item_idx],\n",
        "                        \"rank\": rank + 1\n",
        "                    })\n",
        "        else:\n",
        "            skipped_users += 1\n",
        "\n",
        "    if skipped_users > 0:\n",
        "        print(f\"CẢNH BÁO: Đã bỏ qua {skipped_users} người dùng do có ID nằm ngoài giới hạn của mô hình.\")\n",
        "\n",
        "    candidate_df = pd.DataFrame(candidates)\n",
        "    Path(output_path).parent.mkdir(parents=True, exist_ok=True)\n",
        "    candidate_df.to_parquet(output_path, index=False)\n",
        "    print(f\"Đã lưu {len(candidate_df)} gợi ý ALS/WMF vào: {output_path}\")\n",
        "\n",
        "# 1. Định nghĩa các tham số\n",
        "train_path = \"data/interim/train.parquet\"\n",
        "output_path = \"data/candidates/als_wmf.parquet\"\n",
        "factors = 64\n",
        "regularization = 0.05\n",
        "iterations = 15\n",
        "alpha = 1.0\n",
        "num_cands = 50\n",
        "\n",
        "# 2. Gọi hàm run\n",
        "run(train_path, output_path, factors, regularization, iterations, alpha, num_cands)\n"
      ],
      "metadata": {
        "colab": {
          "base_uri": "https://localhost:8080/",
          "height": 225,
          "referenced_widgets": [
            "dbd4064aa6694ac3908ea34247bef42a",
            "2ee1624a52f649f586f084c5c221cfda",
            "86548601850b4d298c1e94c7e5a7f6c9",
            "c84b22fce105436b86e83cbf45130807",
            "c1ec0dd70f774aa79fbd3ac45e739991",
            "696fbf6065914bc8aaca0eef65f4db70",
            "42a72f84af914e598e9f57cf4fa12184",
            "51b4dd8300de46db85240bb94ebb09e5",
            "eff3a23cf4e141b4bcc69e8a955f0a35",
            "7cc5c457f1a64ef6957096178dbae726",
            "5252f287f29b4460974b2bcf36cd10d6"
          ]
        },
        "id": "RzgsGBZbLVgq",
        "outputId": "1c1d387c-438b-4bb5-b741-420b262247a0"
      },
      "execution_count": null,
      "outputs": [
        {
          "output_type": "stream",
          "name": "stdout",
          "text": [
            "Bắt đầu chạy ALS/WMF với factors = 64...\n"
          ]
        },
        {
          "output_type": "stream",
          "name": "stderr",
          "text": [
            "/usr/local/lib/python3.12/dist-packages/implicit/cpu/als.py:95: RuntimeWarning: OpenBLAS is configured to use 2 threads. It is highly recommended to disable its internal threadpool by setting the environment variable 'OPENBLAS_NUM_THREADS=1' or by calling 'threadpoolctl.threadpool_limits(1, \"blas\")'. Having OpenBLAS use a threadpool can lead to severe performance issues here.\n",
            "  check_blas_config()\n"
          ]
        },
        {
          "output_type": "display_data",
          "data": {
            "text/plain": [
              "  0%|          | 0/15 [00:00<?, ?it/s]"
            ],
            "application/vnd.jupyter.widget-view+json": {
              "version_major": 2,
              "version_minor": 0,
              "model_id": "dbd4064aa6694ac3908ea34247bef42a"
            }
          },
          "metadata": {}
        },
        {
          "output_type": "stream",
          "name": "stdout",
          "text": [
            "Huấn luyện mô hình ALS/WMF hoàn tất.\n",
            "Model được huấn luyện với 3613 users. Đặt giới hạn truy cập tại index 3612.\n",
            "Tạo gợi ý cho từng người dùng...\n"
          ]
        },
        {
          "output_type": "stream",
          "name": "stderr",
          "text": [
            "Generating recommendations: 100%|██████████| 4851/4851 [00:01<00:00, 4367.02it/s]\n"
          ]
        },
        {
          "output_type": "stream",
          "name": "stdout",
          "text": [
            "CẢNH BÁO: Đã bỏ qua 1238 người dùng do có ID nằm ngoài giới hạn của mô hình.\n",
            "Đã lưu 135874 gợi ý ALS/WMF vào: data/candidates/als_wmf.parquet\n"
          ]
        }
      ]
    },
    {
      "cell_type": "markdown",
      "source": [
        "\n",
        "\n",
        "4.   BPR-MF\n",
        "\n"
      ],
      "metadata": {
        "id": "r0KqEychy0W-"
      }
    },
    {
      "cell_type": "code",
      "source": [
        "import pandas as pd\n",
        "import numpy as np\n",
        "import scipy.sparse as sp\n",
        "from implicit.bpr import BayesianPersonalizedRanking\n",
        "from pathlib import Path\n",
        "from tqdm import tqdm\n",
        "\n",
        "def build_user_item_matrix(df: pd.DataFrame):\n",
        "    \"\"\"\n",
        "    Xây dựng ma trận User-Item và các ánh xạ ID theo cách thủ công và an toàn nhất.\n",
        "    \"\"\"\n",
        "    df_clean = df.dropna(subset=['user_id', 'tv_show_id', 'duration_view']).copy()\n",
        "\n",
        "    unique_users = sorted(df_clean['user_id'].unique())\n",
        "    unique_items = sorted(df_clean['tv_show_id'].unique())\n",
        "\n",
        "    user_map = {user_id: i for i, user_id in enumerate(unique_users)}\n",
        "    item_map = {item_id: i for i, item_id in enumerate(unique_items)}\n",
        "\n",
        "    user_codes = df_clean['user_id'].map(user_map)\n",
        "    item_codes = df_clean['tv_show_id'].map(item_map)\n",
        "\n",
        "    matrix = sp.csr_matrix(\n",
        "        (np.log1p(df_clean['duration_view']), (user_codes, item_codes)),\n",
        "        shape=(len(unique_users), len(unique_items))\n",
        "    )\n",
        "\n",
        "    rev_item_map = {i: item_id for item_id, i in item_map.items()}\n",
        "\n",
        "    return matrix, user_map, rev_item_map\n",
        "\n",
        "def run(train_path: str, output_path: str, factors: int, lr: float, reg: float, iters: int, num_candidates: int):\n",
        "    print(f\"Bắt đầu chạy BPR-MF với factors = {factors}...\")\n",
        "    train_df = pd.read_parquet(train_path)\n",
        "\n",
        "    user_item_matrix, user_map, rev_item_map = build_user_item_matrix(train_df)\n",
        "\n",
        "    # Khởi tạo và huấn luyện mô hình\n",
        "    model = BayesianPersonalizedRanking(\n",
        "        factors=factors,\n",
        "        learning_rate=lr,\n",
        "        regularization=reg,\n",
        "        iterations=iters,\n",
        "        random_state=42,\n",
        "        use_gpu=False\n",
        "    )\n",
        "\n",
        "    model.fit(user_item_matrix)\n",
        "    print(\"Huấn luyện mô hình BPR-MF hoàn tất.\")\n",
        "\n",
        "    # Tạo gợi ý\n",
        "    original_user_ids = list(user_map.keys())\n",
        "\n",
        "    ids = model.recommend_all(\n",
        "        user_items=user_item_matrix,\n",
        "        N=num_candidates,\n",
        "        filter_already_liked_items=True\n",
        "    )\n",
        "\n",
        "    # Chuyển đổi kết quả\n",
        "    candidates = []\n",
        "    for i, original_user_id in enumerate(original_user_ids):\n",
        "        for rank, item_idx in enumerate(ids[i]):\n",
        "            if item_idx in rev_item_map:\n",
        "                candidates.append({\n",
        "                    \"user_id\": original_user_id,\n",
        "                    \"tv_show_id\": rev_item_map[item_idx],\n",
        "                    \"rank\": rank + 1\n",
        "                })\n",
        "\n",
        "    candidate_df = pd.DataFrame(candidates)\n",
        "    Path(output_path).parent.mkdir(parents=True, exist_ok=True)\n",
        "    candidate_df.to_parquet(output_path, index=False)\n",
        "    print(f\"Đã lưu {len(candidate_df)} gợi ý BPR-MF vào: {output_path}\")\n",
        "\n",
        "# Định nghĩa các tham số\n",
        "train_path = \"data/interim/train.parquet\"\n",
        "output_path = \"data/candidates/bpr.parquet\"\n",
        "factors = 128\n",
        "learning_rate = 1e-3\n",
        "regularization = 1e-4\n",
        "iterations = 100\n",
        "num_cands = 50\n",
        "\n",
        "run(train_path, output_path, factors, learning_rate, regularization, iterations, num_cands)\n"
      ],
      "metadata": {
        "colab": {
          "base_uri": "https://localhost:8080/",
          "height": 101,
          "referenced_widgets": [
            "a5fd36b5bc1e45d2a3027e90a570f242",
            "374541193bae40a8b1b4aeabeb92eba0",
            "78ac1d7cb4744e2c90373cd1d7ae56dd",
            "94f8cf84b41348148803963be6b76bb7",
            "41e6facd2c1f4a12ade9e6e6168db9a4",
            "a3614083eb534fe6918eae448be4d2e4",
            "f61698e10fc64e17ac716b7439bccbd4",
            "4a6ad30bb03e4aff9abe42374316c456",
            "601fe85c525c416888d135c4d954d18b",
            "d11eea7797b14237bfc8cf9e3a5ded63",
            "ceaf0f5e091943738e9c5bfec53d014f"
          ]
        },
        "id": "jzKkRsLYLYO_",
        "outputId": "dc80fa6f-288a-48c4-8abc-076f36296923"
      },
      "execution_count": null,
      "outputs": [
        {
          "output_type": "stream",
          "name": "stdout",
          "text": [
            "Bắt đầu chạy BPR-MF với factors = 128...\n"
          ]
        },
        {
          "output_type": "display_data",
          "data": {
            "text/plain": [
              "  0%|          | 0/100 [00:00<?, ?it/s]"
            ],
            "application/vnd.jupyter.widget-view+json": {
              "version_major": 2,
              "version_minor": 0,
              "model_id": "a5fd36b5bc1e45d2a3027e90a570f242"
            }
          },
          "metadata": {}
        },
        {
          "output_type": "stream",
          "name": "stdout",
          "text": [
            "Huấn luyện mô hình BPR-MF hoàn tất.\n",
            "Đã lưu 242550 gợi ý BPR-MF vào: data/candidates/bpr.parquet\n"
          ]
        }
      ]
    },
    {
      "cell_type": "markdown",
      "source": [
        "\n",
        "\n",
        "5.   LightGCN\n",
        "\n"
      ],
      "metadata": {
        "id": "wVM8jcKczBuU"
      }
    },
    {
      "cell_type": "code",
      "source": [
        "import pandas as pd\n",
        "import numpy as np\n",
        "import scipy.sparse as sp\n",
        "import torch\n",
        "import torch.nn as nn\n",
        "import torch.optim as optim\n",
        "from torch.utils.data import DataLoader, Dataset\n",
        "from collections import defaultdict\n",
        "import argparse\n",
        "from pathlib import Path\n",
        "from tqdm import tqdm\n",
        "\n",
        "class LightGCN(nn.Module):\n",
        "    def __init__(self, num_users, num_items, adj_matrix, embed_size=64, num_layers=3):\n",
        "        super().__init__()\n",
        "        self.num_users, self.num_items = num_users, num_items\n",
        "        self.embed_size, self.num_layers = embed_size, num_layers\n",
        "        self.adj_matrix = adj_matrix\n",
        "        self.embedding = nn.Embedding(num_users + num_items, embed_size)\n",
        "        nn.init.normal_(self.embedding.weight, std=0.1)\n",
        "\n",
        "    def forward(self):\n",
        "        all_embeddings = [self.embedding.weight]\n",
        "        for _ in range(self.num_layers):\n",
        "            new_embeddings = torch.sparse.mm(self.adj_matrix, all_embeddings[-1])\n",
        "            all_embeddings.append(new_embeddings)\n",
        "        final_embeddings = torch.stack(all_embeddings, dim=1).mean(dim=1)\n",
        "        return torch.split(final_embeddings, [self.num_users, self.num_items])\n",
        "\n",
        "def get_graph_and_dataloader(df, batch_size):\n",
        "    user_map = {id: i for i, id in enumerate(df['user_id'].unique())}\n",
        "    item_map = {id: i for i, id in enumerate(df['tv_show_id'].unique())}\n",
        "    df['user_idx'], df['item_idx'] = df['user_id'].map(user_map), df['tv_show_id'].map(item_map)\n",
        "    num_users, num_items = len(user_map), len(item_map)\n",
        "    adj = sp.dok_matrix((num_users + num_items, num_users + num_items), dtype=np.float32)\n",
        "    adj[:num_users, num_users:] = sp.csr_matrix((np.ones(len(df)), (df['user_idx'], df['item_idx'])), shape=(num_users, num_items))\n",
        "    adj[num_users:, :num_users] = adj[:num_users, num_users:].T\n",
        "    rowsum = np.array(adj.sum(axis=1))\n",
        "    d_inv_sqrt = np.power(rowsum, -0.5).flatten()\n",
        "    d_inv_sqrt[np.isinf(d_inv_sqrt)] = 0.\n",
        "    d_mat_inv_sqrt = sp.diags(d_inv_sqrt)\n",
        "    norm_adj = d_mat_inv_sqrt.dot(adj).dot(d_mat_inv_sqrt).tocoo()\n",
        "    indices, values = torch.LongTensor(np.vstack((norm_adj.row, norm_adj.col))), torch.FloatTensor(norm_adj.data)\n",
        "    adj_tensor = torch.sparse.FloatTensor(indices, values, torch.Size(norm_adj.shape))\n",
        "    class BPRDataset(Dataset):\n",
        "        def __init__(self, df, num_items):\n",
        "            self.user_pos_items = df.groupby('user_idx')['item_idx'].apply(list).to_dict()\n",
        "            self.users, self.num_items = list(self.user_pos_items.keys()), num_items\n",
        "        def __len__(self): return len(self.users)\n",
        "        def __getitem__(self, idx):\n",
        "            user = self.users[idx]\n",
        "            pos_item = np.random.choice(self.user_pos_items[user])\n",
        "            neg_item = np.random.randint(0, self.num_items)\n",
        "            while neg_item in self.user_pos_items[user]: neg_item = np.random.randint(0, self.num_items)\n",
        "            return user, pos_item, neg_item\n",
        "    return adj_tensor, DataLoader(BPRDataset(df, num_items), batch_size, True), user_map, item_map\n",
        "\n",
        "def run(train_path, output_path, emb_size, layers, lr, reg, epochs, batch_size, num_candidates):\n",
        "    device = torch.device(\"cuda\" if torch.cuda.is_available() else \"cpu\")\n",
        "    print(f\"Bắt đầu chạy LightGCN trên thiết bị: {device}\")\n",
        "    df = pd.read_parquet(train_path)\n",
        "    adj, dataloader, user_map, item_map = get_graph_and_dataloader(df, batch_size)\n",
        "    num_users, num_items = len(user_map), len(item_map)\n",
        "    rev_item_map = {i: id for id, i in item_map.items()}\n",
        "    model = LightGCN(num_users, num_items, adj.to(device), emb_size, layers).to(device)\n",
        "    optimizer = optim.Adam(model.parameters(), lr=lr)\n",
        "    print(\"Bắt đầu huấn luyện LightGCN...\")\n",
        "    for epoch in range(epochs):\n",
        "        model.train()\n",
        "        total_loss = 0\n",
        "        for users, pos_items, neg_items in tqdm(dataloader, desc=f\"Epoch {epoch+1}/{epochs}\"):\n",
        "            users, pos_items, neg_items = users.to(device), pos_items.to(device), neg_items.to(device)\n",
        "            optimizer.zero_grad()\n",
        "            user_embed, item_embed = model()\n",
        "            u_e, pos_e, neg_e = user_embed[users], item_embed[pos_items], item_embed[neg_items]\n",
        "            pos_scores, neg_scores = torch.mul(u_e, pos_e).sum(dim=1), torch.mul(u_e, neg_e).sum(dim=1)\n",
        "            loss = -torch.log(torch.sigmoid(pos_scores - neg_scores)).mean()\n",
        "            l2_loss = (u_e.norm(2).pow(2) + pos_e.norm(2).pow(2) + neg_e.norm(2).pow(2)) / len(users)\n",
        "            loss += reg * l2_loss\n",
        "            loss.backward()\n",
        "            optimizer.step()\n",
        "            total_loss += loss.item()\n",
        "        print(f\"Epoch {epoch+1}, Loss: {total_loss/len(dataloader):.4f}\")\n",
        "    print(\"Tạo gợi ý cho tất cả người dùng...\")\n",
        "    model.eval()\n",
        "    with torch.no_grad(): final_user_embed, final_item_embed = model()\n",
        "    scores_matrix = torch.matmul(final_user_embed, final_item_embed.T)\n",
        "    candidates = []\n",
        "    original_user_ids = list(user_map.keys())\n",
        "    user_pos_items = df.groupby('user_idx')['item_idx'].apply(list).to_dict()\n",
        "    for user_idx, scores in enumerate(tqdm(scores_matrix, desc=\"Generating candidates\")):\n",
        "        if user_idx in user_pos_items: scores[user_pos_items[user_idx]] = -np.inf\n",
        "        _, top_k_indices = torch.topk(scores, k=num_candidates)\n",
        "        original_user_id = original_user_ids[user_idx]\n",
        "        for rank, item_idx in enumerate(top_k_indices.cpu().numpy()):\n",
        "            candidates.append({\"user_id\": original_user_id, \"tv_show_id\": rev_item_map[item_idx], \"rank\": rank + 1})\n",
        "    candidate_df = pd.DataFrame(candidates)\n",
        "    Path(output_path).parent.mkdir(parents=True, exist_ok=True)\n",
        "    candidate_df.to_parquet(output_path, index=False)\n",
        "    print(f\"Đã lưu {len(candidate_df)} gợi ý LightGCN vào: {output_path}\")\n",
        "\n",
        "# Định nghĩa các tham số\n",
        "train_path = \"data/interim/train.parquet\"\n",
        "output_path = \"data/candidates/lightgcn.parquet\"\n",
        "emb_size = 64\n",
        "layers = 3\n",
        "learning_rate = 1e-3\n",
        "regularization = 1e-4\n",
        "epochs = 10\n",
        "batch_size = 2048\n",
        "num_cands = 50\n",
        "\n",
        "run(train_path, output_path, emb_size, layers, learning_rate, regularization, epochs, batch_size, num_cands)"
      ],
      "metadata": {
        "colab": {
          "base_uri": "https://localhost:8080/"
        },
        "id": "ddz-e6j1LbS5",
        "outputId": "4722baf9-d812-4108-8c96-35bef535c663"
      },
      "execution_count": null,
      "outputs": [
        {
          "output_type": "stream",
          "name": "stdout",
          "text": [
            "Bắt đầu chạy LightGCN trên thiết bị: cpu\n"
          ]
        },
        {
          "output_type": "stream",
          "name": "stderr",
          "text": [
            "/tmp/ipython-input-3248444499.py:44: UserWarning: torch.sparse.SparseTensor(indices, values, shape, *, device=) is deprecated.  Please use torch.sparse_coo_tensor(indices, values, shape, dtype=, device=). (Triggered internally at /pytorch/torch/csrc/utils/tensor_new.cpp:653.)\n",
            "  adj_tensor = torch.sparse.FloatTensor(indices, values, torch.Size(norm_adj.shape))\n"
          ]
        },
        {
          "output_type": "stream",
          "name": "stdout",
          "text": [
            "Bắt đầu huấn luyện LightGCN...\n"
          ]
        },
        {
          "output_type": "stream",
          "name": "stderr",
          "text": [
            "Epoch 1/10: 100%|██████████| 3/3 [00:02<00:00,  1.43it/s]\n"
          ]
        },
        {
          "output_type": "stream",
          "name": "stdout",
          "text": [
            "Epoch 1, Loss: 0.6927\n"
          ]
        },
        {
          "output_type": "stream",
          "name": "stderr",
          "text": [
            "Epoch 2/10: 100%|██████████| 3/3 [00:02<00:00,  1.44it/s]\n"
          ]
        },
        {
          "output_type": "stream",
          "name": "stdout",
          "text": [
            "Epoch 2, Loss: 0.6923\n"
          ]
        },
        {
          "output_type": "stream",
          "name": "stderr",
          "text": [
            "Epoch 3/10: 100%|██████████| 3/3 [00:02<00:00,  1.48it/s]\n"
          ]
        },
        {
          "output_type": "stream",
          "name": "stdout",
          "text": [
            "Epoch 3, Loss: 0.6919\n"
          ]
        },
        {
          "output_type": "stream",
          "name": "stderr",
          "text": [
            "Epoch 4/10: 100%|██████████| 3/3 [00:02<00:00,  1.27it/s]\n"
          ]
        },
        {
          "output_type": "stream",
          "name": "stdout",
          "text": [
            "Epoch 4, Loss: 0.6912\n"
          ]
        },
        {
          "output_type": "stream",
          "name": "stderr",
          "text": [
            "Epoch 5/10: 100%|██████████| 3/3 [00:02<00:00,  1.03it/s]\n"
          ]
        },
        {
          "output_type": "stream",
          "name": "stdout",
          "text": [
            "Epoch 5, Loss: 0.6900\n"
          ]
        },
        {
          "output_type": "stream",
          "name": "stderr",
          "text": [
            "Epoch 6/10: 100%|██████████| 3/3 [00:02<00:00,  1.43it/s]\n"
          ]
        },
        {
          "output_type": "stream",
          "name": "stdout",
          "text": [
            "Epoch 6, Loss: 0.6887\n"
          ]
        },
        {
          "output_type": "stream",
          "name": "stderr",
          "text": [
            "Epoch 7/10: 100%|██████████| 3/3 [00:02<00:00,  1.44it/s]\n"
          ]
        },
        {
          "output_type": "stream",
          "name": "stdout",
          "text": [
            "Epoch 7, Loss: 0.6866\n"
          ]
        },
        {
          "output_type": "stream",
          "name": "stderr",
          "text": [
            "Epoch 8/10: 100%|██████████| 3/3 [00:02<00:00,  1.47it/s]\n"
          ]
        },
        {
          "output_type": "stream",
          "name": "stdout",
          "text": [
            "Epoch 8, Loss: 0.6842\n"
          ]
        },
        {
          "output_type": "stream",
          "name": "stderr",
          "text": [
            "Epoch 9/10: 100%|██████████| 3/3 [00:02<00:00,  1.46it/s]\n"
          ]
        },
        {
          "output_type": "stream",
          "name": "stdout",
          "text": [
            "Epoch 9, Loss: 0.6811\n"
          ]
        },
        {
          "output_type": "stream",
          "name": "stderr",
          "text": [
            "Epoch 10/10: 100%|██████████| 3/3 [00:02<00:00,  1.18it/s]\n"
          ]
        },
        {
          "output_type": "stream",
          "name": "stdout",
          "text": [
            "Epoch 10, Loss: 0.6771\n",
            "Tạo gợi ý cho tất cả người dùng...\n"
          ]
        },
        {
          "output_type": "stream",
          "name": "stderr",
          "text": [
            "Generating candidates: 100%|██████████| 4851/4851 [00:01<00:00, 4694.40it/s]\n"
          ]
        },
        {
          "output_type": "stream",
          "name": "stdout",
          "text": [
            "Đã lưu 242550 gợi ý LightGCN vào: data/candidates/lightgcn.parquet\n"
          ]
        }
      ]
    }
  ]
}